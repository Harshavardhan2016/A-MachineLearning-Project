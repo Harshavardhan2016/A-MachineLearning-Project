{
 "cells": [
  {
   "cell_type": "code",
   "execution_count": 1,
   "id": "ea8ec20d-6cb2-4731-aa04-337140d9c4e0",
   "metadata": {},
   "outputs": [],
   "source": [
    "import pandas as pd\n",
    "import numpy as np\n",
    "import matplotlib.pyplot as plt\n",
    "import seaborn as sns\n"
   ]
  },
  {
   "cell_type": "code",
   "execution_count": 2,
   "id": "3f80f644-ea29-4e5e-8df4-a43e2a077886",
   "metadata": {},
   "outputs": [],
   "source": [
    "fifa_20 = pd.read_csv('players_20.csv')\n",
    "fifa_19 = pd.read_csv('players_19.csv')\n",
    "fifa_18 = pd.read_csv('players_18.csv')\n",
    "fifa_17 = pd.read_csv('players_17.csv')\n",
    "fifa_16 = pd.read_csv('players_16.csv')"
   ]
  },
  {
   "cell_type": "code",
   "execution_count": 82,
   "id": "e8006189-0f31-48f2-8ea9-be07065ee695",
   "metadata": {},
   "outputs": [],
   "source": [
    "fifa_20['year'] = 20\n",
    "fifa_19['year'] = 19\n",
    "fifa_18['year'] = 18\n",
    "fifa_17['year'] = 17\n",
    "fifa_16['year'] = 16"
   ]
  },
  {
   "cell_type": "code",
   "execution_count": 83,
   "id": "cc920c5e-b08a-473c-8d61-59f040bb2d35",
   "metadata": {},
   "outputs": [
    {
     "data": {
      "text/plain": [
       "((18278, 105), (17770, 105), (17592, 105), (17009, 105), (14881, 105))"
      ]
     },
     "execution_count": 83,
     "metadata": {},
     "output_type": "execute_result"
    }
   ],
   "source": [
    "fifa_20.shape, fifa_19.shape, fifa_18.shape, fifa_17.shape, fifa_16.shape"
   ]
  },
  {
   "cell_type": "code",
   "execution_count": 11,
   "id": "02e4150f-a80f-40e5-bb1c-74de64907b74",
   "metadata": {},
   "outputs": [
    {
     "data": {
      "text/plain": [
       "['sofifa_id',\n",
       " 'player_url',\n",
       " 'short_name',\n",
       " 'long_name',\n",
       " 'age',\n",
       " 'dob',\n",
       " 'height_cm',\n",
       " 'weight_kg',\n",
       " 'nationality',\n",
       " 'club',\n",
       " 'overall',\n",
       " 'potential',\n",
       " 'value_eur',\n",
       " 'wage_eur',\n",
       " 'player_positions',\n",
       " 'preferred_foot',\n",
       " 'international_reputation',\n",
       " 'weak_foot',\n",
       " 'skill_moves',\n",
       " 'work_rate',\n",
       " 'body_type',\n",
       " 'real_face',\n",
       " 'release_clause_eur',\n",
       " 'player_tags',\n",
       " 'team_position',\n",
       " 'team_jersey_number',\n",
       " 'loaned_from',\n",
       " 'joined',\n",
       " 'contract_valid_until',\n",
       " 'nation_position',\n",
       " 'nation_jersey_number',\n",
       " 'pace',\n",
       " 'shooting',\n",
       " 'passing',\n",
       " 'dribbling',\n",
       " 'defending',\n",
       " 'physic',\n",
       " 'gk_diving',\n",
       " 'gk_handling',\n",
       " 'gk_kicking',\n",
       " 'gk_reflexes',\n",
       " 'gk_speed',\n",
       " 'gk_positioning',\n",
       " 'player_traits',\n",
       " 'attacking_crossing',\n",
       " 'attacking_finishing',\n",
       " 'attacking_heading_accuracy',\n",
       " 'attacking_short_passing',\n",
       " 'attacking_volleys',\n",
       " 'skill_dribbling',\n",
       " 'skill_curve',\n",
       " 'skill_fk_accuracy',\n",
       " 'skill_long_passing',\n",
       " 'skill_ball_control',\n",
       " 'movement_acceleration',\n",
       " 'movement_sprint_speed',\n",
       " 'movement_agility',\n",
       " 'movement_reactions',\n",
       " 'movement_balance',\n",
       " 'power_shot_power',\n",
       " 'power_jumping',\n",
       " 'power_stamina',\n",
       " 'power_strength',\n",
       " 'power_long_shots',\n",
       " 'mentality_aggression',\n",
       " 'mentality_interceptions',\n",
       " 'mentality_positioning',\n",
       " 'mentality_vision',\n",
       " 'mentality_penalties',\n",
       " 'mentality_composure',\n",
       " 'defending_marking',\n",
       " 'defending_standing_tackle',\n",
       " 'defending_sliding_tackle',\n",
       " 'goalkeeping_diving',\n",
       " 'goalkeeping_handling',\n",
       " 'goalkeeping_kicking',\n",
       " 'goalkeeping_positioning',\n",
       " 'goalkeeping_reflexes',\n",
       " 'ls',\n",
       " 'st',\n",
       " 'rs',\n",
       " 'lw',\n",
       " 'lf',\n",
       " 'cf',\n",
       " 'rf',\n",
       " 'rw',\n",
       " 'lam',\n",
       " 'cam',\n",
       " 'ram',\n",
       " 'lm',\n",
       " 'lcm',\n",
       " 'cm',\n",
       " 'rcm',\n",
       " 'rm',\n",
       " 'lwb',\n",
       " 'ldm',\n",
       " 'cdm',\n",
       " 'rdm',\n",
       " 'rwb',\n",
       " 'lb',\n",
       " 'lcb',\n",
       " 'cb',\n",
       " 'rcb',\n",
       " 'rb']"
      ]
     },
     "execution_count": 11,
     "metadata": {},
     "output_type": "execute_result"
    }
   ],
   "source": [
    "list(fifa.columns)"
   ]
  },
  {
   "cell_type": "code",
   "execution_count": 84,
   "id": "d011d016-0610-4d81-b5a7-570b3b079b18",
   "metadata": {},
   "outputs": [],
   "source": [
    "fifa = pd.concat([fifa_20, fifa_19, fifa_18, fifa_17, fifa_16])"
   ]
  },
  {
   "cell_type": "code",
   "execution_count": 85,
   "id": "4e89c4f2-576a-4210-94c0-8847771b9cb2",
   "metadata": {},
   "outputs": [
    {
     "data": {
      "text/plain": [
       "(85530, 105)"
      ]
     },
     "execution_count": 85,
     "metadata": {},
     "output_type": "execute_result"
    }
   ],
   "source": [
    "fifa.shape"
   ]
  },
  {
   "cell_type": "code",
   "execution_count": 51,
   "id": "e8dfc2d2-7193-4775-a65f-905c6b67f631",
   "metadata": {},
   "outputs": [],
   "source": [
    "leagues_consider = ['English Premier League', 'German 1. Bundesliga', 'French Ligue 1', 'Spain Primera Division', 'Italian Serie A']"
   ]
  },
  {
   "cell_type": "code",
   "execution_count": 12,
   "id": "6a2cf3b5-b06e-42e4-8d1e-6c9d4b8efd2c",
   "metadata": {},
   "outputs": [],
   "source": [
    "team_and_league = pd.read_csv('teams_and_leagues.csv')"
   ]
  },
  {
   "cell_type": "code",
   "execution_count": 13,
   "id": "1c439e06-e7f6-4bde-beff-4cc7ccb3647d",
   "metadata": {},
   "outputs": [
    {
     "data": {
      "text/html": [
       "<div>\n",
       "<style scoped>\n",
       "    .dataframe tbody tr th:only-of-type {\n",
       "        vertical-align: middle;\n",
       "    }\n",
       "\n",
       "    .dataframe tbody tr th {\n",
       "        vertical-align: top;\n",
       "    }\n",
       "\n",
       "    .dataframe thead th {\n",
       "        text-align: right;\n",
       "    }\n",
       "</style>\n",
       "<table border=\"1\" class=\"dataframe\">\n",
       "  <thead>\n",
       "    <tr style=\"text-align: right;\">\n",
       "      <th></th>\n",
       "      <th>url</th>\n",
       "      <th>league_name</th>\n",
       "    </tr>\n",
       "  </thead>\n",
       "  <tbody>\n",
       "    <tr>\n",
       "      <th>0</th>\n",
       "      <td>241</td>\n",
       "      <td>Spain Primera Division</td>\n",
       "    </tr>\n",
       "    <tr>\n",
       "      <th>1</th>\n",
       "      <td>11</td>\n",
       "      <td>English Premier League</td>\n",
       "    </tr>\n",
       "    <tr>\n",
       "      <th>2</th>\n",
       "      <td>5</td>\n",
       "      <td>English Premier League</td>\n",
       "    </tr>\n",
       "    <tr>\n",
       "      <th>3</th>\n",
       "      <td>243</td>\n",
       "      <td>Spain Primera Division</td>\n",
       "    </tr>\n",
       "    <tr>\n",
       "      <th>4</th>\n",
       "      <td>1</td>\n",
       "      <td>English Premier League</td>\n",
       "    </tr>\n",
       "  </tbody>\n",
       "</table>\n",
       "</div>"
      ],
      "text/plain": [
       "   url              league_name\n",
       "0  241  Spain Primera Division \n",
       "1   11  English Premier League \n",
       "2    5  English Premier League \n",
       "3  243  Spain Primera Division \n",
       "4    1  English Premier League "
      ]
     },
     "execution_count": 13,
     "metadata": {},
     "output_type": "execute_result"
    }
   ],
   "source": [
    "team_and_league.head()"
   ]
  },
  {
   "cell_type": "code",
   "execution_count": 21,
   "id": "b789380a-25d3-4e8e-9f99-39919624589c",
   "metadata": {},
   "outputs": [
    {
     "name": "stdout",
     "output_type": "stream",
     "text": [
      "<class 'pandas.core.frame.DataFrame'>\n",
      "RangeIndex: 1080 entries, 0 to 1079\n",
      "Data columns (total 2 columns):\n",
      " #   Column       Non-Null Count  Dtype \n",
      "---  ------       --------------  ----- \n",
      " 0   url          1080 non-null   int64 \n",
      " 1   league_name  1080 non-null   object\n",
      "dtypes: int64(1), object(1)\n",
      "memory usage: 17.0+ KB\n"
     ]
    }
   ],
   "source": [
    "team_and_league.info()"
   ]
  },
  {
   "cell_type": "code",
   "execution_count": 86,
   "id": "cad3161a-469d-4487-8d2e-980c1eb1482d",
   "metadata": {},
   "outputs": [
    {
     "data": {
      "text/plain": [
       "892"
      ]
     },
     "execution_count": 86,
     "metadata": {},
     "output_type": "execute_result"
    }
   ],
   "source": [
    "fifa['club'].nunique()"
   ]
  },
  {
   "cell_type": "code",
   "execution_count": 23,
   "id": "693f448c-5cd0-43aa-882c-ea82c36dc606",
   "metadata": {},
   "outputs": [
    {
     "data": {
      "text/plain": [
       "31584"
      ]
     },
     "execution_count": 23,
     "metadata": {},
     "output_type": "execute_result"
    }
   ],
   "source": [
    "fifa['short_name'].nunique()"
   ]
  },
  {
   "cell_type": "code",
   "execution_count": 39,
   "id": "b39b1028-a09e-426e-80ce-c8cd2fa7949f",
   "metadata": {},
   "outputs": [
    {
     "data": {
      "text/html": [
       "<div>\n",
       "<style scoped>\n",
       "    .dataframe tbody tr th:only-of-type {\n",
       "        vertical-align: middle;\n",
       "    }\n",
       "\n",
       "    .dataframe tbody tr th {\n",
       "        vertical-align: top;\n",
       "    }\n",
       "\n",
       "    .dataframe thead th {\n",
       "        text-align: right;\n",
       "    }\n",
       "</style>\n",
       "<table border=\"1\" class=\"dataframe\">\n",
       "  <thead>\n",
       "    <tr style=\"text-align: right;\">\n",
       "      <th></th>\n",
       "      <th>url</th>\n",
       "      <th>league_name</th>\n",
       "    </tr>\n",
       "  </thead>\n",
       "  <tbody>\n",
       "    <tr>\n",
       "      <th>652</th>\n",
       "      <td>113173</td>\n",
       "      <td>Swedish Allsvenskan</td>\n",
       "    </tr>\n",
       "  </tbody>\n",
       "</table>\n",
       "</div>"
      ],
      "text/plain": [
       "        url           league_name\n",
       "652  113173  Swedish Allsvenskan "
      ]
     },
     "execution_count": 39,
     "metadata": {},
     "output_type": "execute_result"
    }
   ],
   "source": [
    "team_and_league[team_and_league['url']==113173]"
   ]
  },
  {
   "cell_type": "code",
   "execution_count": 48,
   "id": "2c114dd5-26c7-43e6-9109-7d0403c3255b",
   "metadata": {},
   "outputs": [
    {
     "name": "stdout",
     "output_type": "stream",
     "text": [
      "Requirement already satisfied: tqdm in c:\\users\\dell\\anaconda3\\lib\\site-packages (4.59.0)\n"
     ]
    }
   ],
   "source": [
    "!pip install tqdm"
   ]
  },
  {
   "cell_type": "code",
   "execution_count": 50,
   "id": "2ac5ff1b-dab2-4d70-9785-f82ce429d620",
   "metadata": {},
   "outputs": [
    {
     "name": "stderr",
     "output_type": "stream",
     "text": [
      "100%|██████████████████████████████████████████████████████████████████████████████| 1009/1009 [14:02<00:00,  1.20it/s]\n"
     ]
    }
   ],
   "source": [
    "clubs = []\n",
    "\n",
    "# importing the modules\n",
    "import requests\n",
    "from bs4 import BeautifulSoup\n",
    "from tqdm import tqdm\n",
    "for i in tqdm(list(team_and_league['url'].unique())):\n",
    "    # target url\n",
    "    url = f'https://sofifa.com/team/{i}/'\n",
    "\n",
    "    # making requests instance\n",
    "    reqs = requests.get(url)\n",
    "\n",
    "    # using the BeautifulSoup module\n",
    "    soup = BeautifulSoup(reqs.text, 'html.parser')\n",
    "\n",
    "\n",
    "    for title in soup.find_all('title'):\n",
    "        titl = title.get_text()\n",
    "    club_name = titl[:titl.find('FIFA 22')-1]\n",
    "    clubs.append(club_name)"
   ]
  },
  {
   "cell_type": "code",
   "execution_count": 63,
   "id": "6ac29208-5250-4149-9d42-4851572af28a",
   "metadata": {},
   "outputs": [],
   "source": [
    "#     url = f'https://sofifa.com/team/1/'\n",
    "\n",
    "#     # making requests instance\n",
    "#     reqs = requests.get(url)\n",
    "\n",
    "#     # using the BeautifulSoup module\n",
    "#     soup = BeautifulSoup(reqs.text, 'html.parser')\n",
    "\n",
    "\n",
    "#     for title in soup.find_all('title'):\n",
    "#         titl = title.get_text()\n",
    "#     print(titl)"
   ]
  },
  {
   "cell_type": "code",
   "execution_count": 52,
   "id": "1b5afc36-0245-499a-8090-eb5f4ffb4cd3",
   "metadata": {},
   "outputs": [],
   "source": [
    "url_club = {}\n",
    "for i, j in zip(list(team_and_league['url'].unique()), clubs):\n",
    "    url_club[i] = j"
   ]
  },
  {
   "cell_type": "code",
   "execution_count": 54,
   "id": "03ef35b6-58f3-4da8-915b-475a55ea0280",
   "metadata": {},
   "outputs": [],
   "source": [
    "clubs = []\n",
    "for i in team_and_league['url']:\n",
    "    clubs.append(url_club[i])\n",
    "\n",
    "team_and_league['club'] = clubs"
   ]
  },
  {
   "cell_type": "code",
   "execution_count": 55,
   "id": "e7bdc1ec-179f-4e20-8089-d9bec5b76f42",
   "metadata": {},
   "outputs": [
    {
     "data": {
      "text/html": [
       "<div>\n",
       "<style scoped>\n",
       "    .dataframe tbody tr th:only-of-type {\n",
       "        vertical-align: middle;\n",
       "    }\n",
       "\n",
       "    .dataframe tbody tr th {\n",
       "        vertical-align: top;\n",
       "    }\n",
       "\n",
       "    .dataframe thead th {\n",
       "        text-align: right;\n",
       "    }\n",
       "</style>\n",
       "<table border=\"1\" class=\"dataframe\">\n",
       "  <thead>\n",
       "    <tr style=\"text-align: right;\">\n",
       "      <th></th>\n",
       "      <th>url</th>\n",
       "      <th>league_name</th>\n",
       "      <th>club</th>\n",
       "    </tr>\n",
       "  </thead>\n",
       "  <tbody>\n",
       "    <tr>\n",
       "      <th>0</th>\n",
       "      <td>241</td>\n",
       "      <td>Spain Primera Division</td>\n",
       "      <td>FC Barcelona</td>\n",
       "    </tr>\n",
       "    <tr>\n",
       "      <th>1</th>\n",
       "      <td>11</td>\n",
       "      <td>English Premier League</td>\n",
       "      <td>Manchester United</td>\n",
       "    </tr>\n",
       "    <tr>\n",
       "      <th>2</th>\n",
       "      <td>5</td>\n",
       "      <td>English Premier League</td>\n",
       "      <td>Chelsea</td>\n",
       "    </tr>\n",
       "    <tr>\n",
       "      <th>3</th>\n",
       "      <td>243</td>\n",
       "      <td>Spain Primera Division</td>\n",
       "      <td>Real Madrid CF</td>\n",
       "    </tr>\n",
       "    <tr>\n",
       "      <th>4</th>\n",
       "      <td>1</td>\n",
       "      <td>English Premier League</td>\n",
       "      <td>Arsenal</td>\n",
       "    </tr>\n",
       "  </tbody>\n",
       "</table>\n",
       "</div>"
      ],
      "text/plain": [
       "   url              league_name               club\n",
       "0  241  Spain Primera Division        FC Barcelona\n",
       "1   11  English Premier League   Manchester United\n",
       "2    5  English Premier League             Chelsea\n",
       "3  243  Spain Primera Division      Real Madrid CF\n",
       "4    1  English Premier League             Arsenal"
      ]
     },
     "execution_count": 55,
     "metadata": {},
     "output_type": "execute_result"
    }
   ],
   "source": [
    "team_and_league.head()"
   ]
  },
  {
   "cell_type": "code",
   "execution_count": 69,
   "id": "a5ae01e9-4f55-4427-9bc7-226b5bff7f84",
   "metadata": {},
   "outputs": [],
   "source": [
    "team_and_league['league_name'] = team_and_league['league_name'].str.rstrip()"
   ]
  },
  {
   "cell_type": "code",
   "execution_count": 71,
   "id": "82bac9ed-1db8-4d15-9617-50a21c06ebe7",
   "metadata": {},
   "outputs": [],
   "source": [
    "teams_consider = team_and_league[team_and_league['league_name'].isin(leagues_consider)]\n",
    "teams_consider.reset_index(drop=True, inplace=True)"
   ]
  },
  {
   "cell_type": "code",
   "execution_count": 72,
   "id": "01d8db82-3a81-4581-9aa7-a98504879daf",
   "metadata": {},
   "outputs": [
    {
     "data": {
      "text/plain": [
       "(147, 3)"
      ]
     },
     "execution_count": 72,
     "metadata": {},
     "output_type": "execute_result"
    }
   ],
   "source": [
    "teams_consider.shape"
   ]
  },
  {
   "cell_type": "code",
   "execution_count": 73,
   "id": "05030e87-8b15-4a8e-82ef-807ae137df0f",
   "metadata": {},
   "outputs": [
    {
     "data": {
      "text/plain": [
       "array(['Spain Primera Division', 'English Premier League',\n",
       "       'German 1. Bundesliga', 'French Ligue 1', 'Italian Serie A'],\n",
       "      dtype=object)"
      ]
     },
     "execution_count": 73,
     "metadata": {},
     "output_type": "execute_result"
    }
   ],
   "source": [
    "teams_consider['league_name'].unique()"
   ]
  },
  {
   "cell_type": "code",
   "execution_count": 76,
   "id": "ff0b79e0-705b-43a0-a581-423e8bec7ac2",
   "metadata": {},
   "outputs": [],
   "source": [
    "clubs_consider = teams_consider['club'].unique()"
   ]
  },
  {
   "cell_type": "code",
   "execution_count": 109,
   "id": "d284b056-2e61-4f34-ae3b-6605ab072362",
   "metadata": {},
   "outputs": [],
   "source": [
    "fifa_df = fifa[fifa['club'].isin(clubs_consider)]"
   ]
  },
  {
   "cell_type": "code",
   "execution_count": 88,
   "id": "1a47e7c2-93b8-446b-bec4-fed3fa8a4c43",
   "metadata": {},
   "outputs": [
    {
     "data": {
      "text/plain": [
       "((85530, 105), (11781, 105))"
      ]
     },
     "execution_count": 88,
     "metadata": {},
     "output_type": "execute_result"
    }
   ],
   "source": [
    "fifa.shape, fifa_df.shape"
   ]
  },
  {
   "cell_type": "code",
   "execution_count": 90,
   "id": "8fb06c92-c0d9-451b-b721-e0889001012a",
   "metadata": {},
   "outputs": [],
   "source": [
    "features = list(fifa_df.columns)"
   ]
  },
  {
   "cell_type": "code",
   "execution_count": null,
   "id": "34172974-602a-4b1d-a863-856484ace7ff",
   "metadata": {},
   "outputs": [],
   "source": []
  },
  {
   "cell_type": "code",
   "execution_count": 198,
   "id": "51d8e009-a4fb-41e5-a5c4-e008068ddd65",
   "metadata": {},
   "outputs": [],
   "source": [
    "rem = ['sofifa_id', 'player_url', 'short_name', 'long_name', 'dob', 'nationality', 'player_positions', 'preferred_foot','wage_eur', 'player_tags','work_rate','team_position','nation_position','nation_jersey_number','player_traits','contract_valid_until','loaned_from', 'joined','real_face']"
   ]
  },
  {
   "cell_type": "code",
   "execution_count": 199,
   "id": "7684b293-e38b-4da3-b902-f362aef2e80e",
   "metadata": {},
   "outputs": [],
   "source": [
    "final_feats = list(set(features).difference(set(rem)))"
   ]
  },
  {
   "cell_type": "code",
   "execution_count": 200,
   "id": "c3c2c6ca-a85c-4169-b116-2fd2a8509d41",
   "metadata": {},
   "outputs": [
    {
     "data": {
      "text/plain": [
       "86"
      ]
     },
     "execution_count": 200,
     "metadata": {},
     "output_type": "execute_result"
    }
   ],
   "source": [
    "len(final_feats)"
   ]
  },
  {
   "cell_type": "code",
   "execution_count": 201,
   "id": "64ad7623-88d4-4032-99e9-5a7644bb8527",
   "metadata": {},
   "outputs": [],
   "source": [
    "fifa_final = fifa_df[final_feats]"
   ]
  },
  {
   "cell_type": "code",
   "execution_count": 202,
   "id": "381b104b-6942-4726-b1ea-abd4265a4977",
   "metadata": {},
   "outputs": [
    {
     "data": {
      "text/plain": [
       "(11781, 86)"
      ]
     },
     "execution_count": 202,
     "metadata": {},
     "output_type": "execute_result"
    }
   ],
   "source": [
    "fifa_final.shape"
   ]
  },
  {
   "cell_type": "code",
   "execution_count": 203,
   "id": "13d46551-fa0b-4ddd-b852-d7f80f423998",
   "metadata": {},
   "outputs": [
    {
     "name": "stdout",
     "output_type": "stream",
     "text": [
      "<class 'pandas.core.frame.DataFrame'>\n",
      "Int64Index: 11781 entries, 0 to 14859\n",
      "Data columns (total 86 columns):\n",
      " #   Column                      Non-Null Count  Dtype  \n",
      "---  ------                      --------------  -----  \n",
      " 0   attacking_volleys           11781 non-null  object \n",
      " 1   pace                        10473 non-null  float64\n",
      " 2   movement_acceleration       11781 non-null  object \n",
      " 3   st                          10473 non-null  object \n",
      " 4   attacking_short_passing     11781 non-null  object \n",
      " 5   mentality_vision            11781 non-null  object \n",
      " 6   mentality_penalties         11781 non-null  object \n",
      " 7   skill_ball_control          11781 non-null  object \n",
      " 8   rdm                         10473 non-null  object \n",
      " 9   movement_sprint_speed       11781 non-null  object \n",
      " 10  team_jersey_number          11781 non-null  float64\n",
      " 11  defending                   10473 non-null  float64\n",
      " 12  skill_dribbling             11781 non-null  object \n",
      " 13  gk_handling                 1308 non-null   float64\n",
      " 14  power_shot_power            11781 non-null  object \n",
      " 15  ram                         10473 non-null  object \n",
      " 16  lb                          10473 non-null  object \n",
      " 17  year                        11781 non-null  int64  \n",
      " 18  ls                          10473 non-null  object \n",
      " 19  cb                          10473 non-null  object \n",
      " 20  cf                          10473 non-null  object \n",
      " 21  cam                         10473 non-null  object \n",
      " 22  power_long_shots            11781 non-null  object \n",
      " 23  potential                   11781 non-null  int64  \n",
      " 24  gk_speed                    1308 non-null   float64\n",
      " 25  attacking_finishing         11781 non-null  object \n",
      " 26  rcm                         10473 non-null  object \n",
      " 27  attacking_crossing          11781 non-null  object \n",
      " 28  defending_marking           11781 non-null  object \n",
      " 29  mentality_positioning       11781 non-null  object \n",
      " 30  overall                     11781 non-null  int64  \n",
      " 31  gk_kicking                  1308 non-null   float64\n",
      " 32  defending_sliding_tackle    11781 non-null  object \n",
      " 33  power_jumping               11781 non-null  object \n",
      " 34  skill_fk_accuracy           11781 non-null  object \n",
      " 35  lam                         10473 non-null  object \n",
      " 36  goalkeeping_positioning     11781 non-null  object \n",
      " 37  movement_balance            11781 non-null  object \n",
      " 38  mentality_interceptions     11781 non-null  object \n",
      " 39  mentality_composure         9618 non-null   object \n",
      " 40  value_eur                   11781 non-null  int64  \n",
      " 41  skill_moves                 11781 non-null  int64  \n",
      " 42  dribbling                   10473 non-null  float64\n",
      " 43  movement_agility            11781 non-null  object \n",
      " 44  goalkeeping_kicking         11781 non-null  object \n",
      " 45  body_type                   11781 non-null  object \n",
      " 46  club                        11781 non-null  object \n",
      " 47  passing                     10473 non-null  float64\n",
      " 48  power_strength              11781 non-null  object \n",
      " 49  rb                          10473 non-null  object \n",
      " 50  rcb                         10473 non-null  object \n",
      " 51  lw                          10473 non-null  object \n",
      " 52  gk_reflexes                 1308 non-null   float64\n",
      " 53  goalkeeping_reflexes        11781 non-null  object \n",
      " 54  rw                          10473 non-null  object \n",
      " 55  power_stamina               11781 non-null  object \n",
      " 56  goalkeeping_diving          11781 non-null  object \n",
      " 57  rf                          10473 non-null  object \n",
      " 58  cm                          10473 non-null  object \n",
      " 59  skill_long_passing          11781 non-null  object \n",
      " 60  gk_diving                   1308 non-null   float64\n",
      " 61  weak_foot                   11781 non-null  int64  \n",
      " 62  international_reputation    11781 non-null  int64  \n",
      " 63  lf                          10473 non-null  object \n",
      " 64  cdm                         10473 non-null  object \n",
      " 65  defending_standing_tackle   11781 non-null  object \n",
      " 66  rs                          10473 non-null  object \n",
      " 67  movement_reactions          11781 non-null  object \n",
      " 68  weight_kg                   11781 non-null  int64  \n",
      " 69  release_clause_eur          6861 non-null   float64\n",
      " 70  goalkeeping_handling        11781 non-null  object \n",
      " 71  age                         11781 non-null  int64  \n",
      " 72  rm                          10473 non-null  object \n",
      " 73  lwb                         10473 non-null  object \n",
      " 74  ldm                         10473 non-null  object \n",
      " 75  lcm                         10473 non-null  object \n",
      " 76  attacking_heading_accuracy  11781 non-null  object \n",
      " 77  lcb                         10473 non-null  object \n",
      " 78  height_cm                   11781 non-null  int64  \n",
      " 79  skill_curve                 11781 non-null  object \n",
      " 80  shooting                    10473 non-null  float64\n",
      " 81  gk_positioning              1308 non-null   float64\n",
      " 82  physic                      10473 non-null  float64\n",
      " 83  lm                          10473 non-null  object \n",
      " 84  mentality_aggression        11781 non-null  object \n",
      " 85  rwb                         10473 non-null  object \n",
      "dtypes: float64(14), int64(10), object(62)\n",
      "memory usage: 7.8+ MB\n"
     ]
    }
   ],
   "source": [
    "fifa_final.info()"
   ]
  },
  {
   "cell_type": "code",
   "execution_count": 204,
   "id": "6a4322b4-66f2-4178-b95a-7fd1febb4fd7",
   "metadata": {},
   "outputs": [],
   "source": [
    "fifa_final = fifa_final[fifa_final['body_type'].isin(['Normal', 'Lean', 'Stocky'])]"
   ]
  },
  {
   "cell_type": "code",
   "execution_count": 205,
   "id": "97848b4d-9bcf-4d94-bac5-35e3b3760ef1",
   "metadata": {},
   "outputs": [
    {
     "data": {
      "text/plain": [
       "(11762, 86)"
      ]
     },
     "execution_count": 205,
     "metadata": {},
     "output_type": "execute_result"
    }
   ],
   "source": [
    "fifa_final.shape"
   ]
  },
  {
   "cell_type": "code",
   "execution_count": 206,
   "id": "84e2dfb3-ee99-4945-8ca2-d0977167b0f4",
   "metadata": {},
   "outputs": [],
   "source": [
    "rep = {'Normal':1, 'Lean':0, 'Stocky':2}\n",
    "fifa_final.replace(rep, inplace=True)"
   ]
  },
  {
   "cell_type": "code",
   "execution_count": 212,
   "id": "780c7bd6-0e18-4bee-b16f-0c8023c5c034",
   "metadata": {},
   "outputs": [],
   "source": [
    "fifa_final_df = fifa_final.fillna(0)"
   ]
  },
  {
   "cell_type": "code",
   "execution_count": 213,
   "id": "8fcf7758-694c-4b47-8d46-5f44e2a0ab16",
   "metadata": {},
   "outputs": [
    {
     "data": {
      "text/plain": [
       "(11762, 86)"
      ]
     },
     "execution_count": 213,
     "metadata": {},
     "output_type": "execute_result"
    }
   ],
   "source": [
    "fifa_final_df.shape"
   ]
  },
  {
   "cell_type": "code",
   "execution_count": 214,
   "id": "cf434838-87ca-4638-96ff-08cf8be46464",
   "metadata": {},
   "outputs": [
    {
     "data": {
      "text/plain": [
       "year\n",
       "16    77\n",
       "17    78\n",
       "18    79\n",
       "19    81\n",
       "20    81\n",
       "Name: club, dtype: int64"
      ]
     },
     "execution_count": 214,
     "metadata": {},
     "output_type": "execute_result"
    }
   ],
   "source": [
    "fifa_final_df.groupby('year')['club'].nunique()"
   ]
  },
  {
   "cell_type": "code",
   "execution_count": 215,
   "id": "b7d6069e-b3b8-4008-8abb-5710933589a9",
   "metadata": {},
   "outputs": [],
   "source": [
    "def add_up(x):\n",
    "    if '-' in str(x):\n",
    "        a = str(x).split('-')\n",
    "        a = list(map(float, a))\n",
    "        return a[0]-a[1]\n",
    "    a = str(x).split('+')\n",
    "    a = list(map(float, a))\n",
    "    return sum(a)"
   ]
  },
  {
   "cell_type": "code",
   "execution_count": 216,
   "id": "4dae80d5-1f39-4bca-8078-7c84122808b1",
   "metadata": {},
   "outputs": [],
   "source": [
    "for i in fifa_final_df.columns:\n",
    "    if i not in ['year', 'club']:\n",
    "        fifa_final_df[i] = fifa_final_df[i].apply(add_up)"
   ]
  },
  {
   "cell_type": "code",
   "execution_count": 217,
   "id": "c78849ee-2787-42dd-8728-1c9f609c3ac9",
   "metadata": {},
   "outputs": [
    {
     "name": "stdout",
     "output_type": "stream",
     "text": [
      "<class 'pandas.core.frame.DataFrame'>\n",
      "Int64Index: 11762 entries, 5 to 14859\n",
      "Data columns (total 86 columns):\n",
      " #   Column                      Non-Null Count  Dtype  \n",
      "---  ------                      --------------  -----  \n",
      " 0   attacking_volleys           11762 non-null  float64\n",
      " 1   pace                        11762 non-null  float64\n",
      " 2   movement_acceleration       11762 non-null  float64\n",
      " 3   st                          11762 non-null  float64\n",
      " 4   attacking_short_passing     11762 non-null  float64\n",
      " 5   mentality_vision            11762 non-null  float64\n",
      " 6   mentality_penalties         11762 non-null  float64\n",
      " 7   skill_ball_control          11762 non-null  float64\n",
      " 8   rdm                         11762 non-null  float64\n",
      " 9   movement_sprint_speed       11762 non-null  float64\n",
      " 10  team_jersey_number          11762 non-null  float64\n",
      " 11  defending                   11762 non-null  float64\n",
      " 12  skill_dribbling             11762 non-null  float64\n",
      " 13  gk_handling                 11762 non-null  float64\n",
      " 14  power_shot_power            11762 non-null  float64\n",
      " 15  ram                         11762 non-null  float64\n",
      " 16  lb                          11762 non-null  float64\n",
      " 17  year                        11762 non-null  int64  \n",
      " 18  ls                          11762 non-null  float64\n",
      " 19  cb                          11762 non-null  float64\n",
      " 20  cf                          11762 non-null  float64\n",
      " 21  cam                         11762 non-null  float64\n",
      " 22  power_long_shots            11762 non-null  float64\n",
      " 23  potential                   11762 non-null  float64\n",
      " 24  gk_speed                    11762 non-null  float64\n",
      " 25  attacking_finishing         11762 non-null  float64\n",
      " 26  rcm                         11762 non-null  float64\n",
      " 27  attacking_crossing          11762 non-null  float64\n",
      " 28  defending_marking           11762 non-null  float64\n",
      " 29  mentality_positioning       11762 non-null  float64\n",
      " 30  overall                     11762 non-null  float64\n",
      " 31  gk_kicking                  11762 non-null  float64\n",
      " 32  defending_sliding_tackle    11762 non-null  float64\n",
      " 33  power_jumping               11762 non-null  float64\n",
      " 34  skill_fk_accuracy           11762 non-null  float64\n",
      " 35  lam                         11762 non-null  float64\n",
      " 36  goalkeeping_positioning     11762 non-null  float64\n",
      " 37  movement_balance            11762 non-null  float64\n",
      " 38  mentality_interceptions     11762 non-null  float64\n",
      " 39  mentality_composure         11762 non-null  float64\n",
      " 40  value_eur                   11762 non-null  float64\n",
      " 41  skill_moves                 11762 non-null  float64\n",
      " 42  dribbling                   11762 non-null  float64\n",
      " 43  movement_agility            11762 non-null  float64\n",
      " 44  goalkeeping_kicking         11762 non-null  float64\n",
      " 45  body_type                   11762 non-null  float64\n",
      " 46  club                        11762 non-null  object \n",
      " 47  passing                     11762 non-null  float64\n",
      " 48  power_strength              11762 non-null  float64\n",
      " 49  rb                          11762 non-null  float64\n",
      " 50  rcb                         11762 non-null  float64\n",
      " 51  lw                          11762 non-null  float64\n",
      " 52  gk_reflexes                 11762 non-null  float64\n",
      " 53  goalkeeping_reflexes        11762 non-null  float64\n",
      " 54  rw                          11762 non-null  float64\n",
      " 55  power_stamina               11762 non-null  float64\n",
      " 56  goalkeeping_diving          11762 non-null  float64\n",
      " 57  rf                          11762 non-null  float64\n",
      " 58  cm                          11762 non-null  float64\n",
      " 59  skill_long_passing          11762 non-null  float64\n",
      " 60  gk_diving                   11762 non-null  float64\n",
      " 61  weak_foot                   11762 non-null  float64\n",
      " 62  international_reputation    11762 non-null  float64\n",
      " 63  lf                          11762 non-null  float64\n",
      " 64  cdm                         11762 non-null  float64\n",
      " 65  defending_standing_tackle   11762 non-null  float64\n",
      " 66  rs                          11762 non-null  float64\n",
      " 67  movement_reactions          11762 non-null  float64\n",
      " 68  weight_kg                   11762 non-null  float64\n",
      " 69  release_clause_eur          11762 non-null  float64\n",
      " 70  goalkeeping_handling        11762 non-null  float64\n",
      " 71  age                         11762 non-null  float64\n",
      " 72  rm                          11762 non-null  float64\n",
      " 73  lwb                         11762 non-null  float64\n",
      " 74  ldm                         11762 non-null  float64\n",
      " 75  lcm                         11762 non-null  float64\n",
      " 76  attacking_heading_accuracy  11762 non-null  float64\n",
      " 77  lcb                         11762 non-null  float64\n",
      " 78  height_cm                   11762 non-null  float64\n",
      " 79  skill_curve                 11762 non-null  float64\n",
      " 80  shooting                    11762 non-null  float64\n",
      " 81  gk_positioning              11762 non-null  float64\n",
      " 82  physic                      11762 non-null  float64\n",
      " 83  lm                          11762 non-null  float64\n",
      " 84  mentality_aggression        11762 non-null  float64\n",
      " 85  rwb                         11762 non-null  float64\n",
      "dtypes: float64(84), int64(1), object(1)\n",
      "memory usage: 7.8+ MB\n"
     ]
    }
   ],
   "source": [
    "fifa_final_df.info()"
   ]
  },
  {
   "cell_type": "code",
   "execution_count": 222,
   "id": "e4688119-f39a-4160-9eec-4fb048f78d99",
   "metadata": {},
   "outputs": [],
   "source": [
    "fifa_grouped = fifa_final_df.groupby(['club', 'year']).mean()"
   ]
  },
  {
   "cell_type": "code",
   "execution_count": 224,
   "id": "da0eb85b-08e9-4fd8-8edc-e59d30d8824a",
   "metadata": {},
   "outputs": [],
   "source": [
    "clubs = fifa_final_df['club'].unique()"
   ]
  },
  {
   "cell_type": "code",
   "execution_count": 293,
   "id": "efa059c4-fd0d-43dc-9789-7b44613fd69c",
   "metadata": {},
   "outputs": [
    {
     "data": {
      "text/plain": [
       "81"
      ]
     },
     "execution_count": 293,
     "metadata": {},
     "output_type": "execute_result"
    }
   ],
   "source": [
    "len(clubs)"
   ]
  },
  {
   "cell_type": "code",
   "execution_count": 232,
   "id": "c9c1380a-192a-4ea7-9e70-0f7f2639c0a3",
   "metadata": {},
   "outputs": [],
   "source": [
    "year = [17, 18, 19, 20]"
   ]
  },
  {
   "cell_type": "code",
   "execution_count": null,
   "id": "24cdca62-ca21-4695-932a-9891ec3129e0",
   "metadata": {},
   "outputs": [],
   "source": [
    "new_fifa_diff = pd.DataFrame()"
   ]
  },
  {
   "cell_type": "code",
   "execution_count": 248,
   "id": "e82d7752-44bd-4058-9241-bf1277bb6d5a",
   "metadata": {},
   "outputs": [],
   "source": [
    "\n",
    "l=[]\n",
    "for i in clubs:\n",
    "    for j in year:\n",
    "        if (i,j) in fifa_grouped.index and (i, j-1) in fifa_grouped.index:\n",
    "            diff = fifa_grouped.loc[(i,j)] - fifa_grouped.loc[(i, j-1)]\n",
    "            diff_df = pd.DataFrame(diff).T\n",
    "            diff_df['club'] = i\n",
    "#             diff_df['year'] = f'{j}-{j-1}'\n",
    "            l.append(diff_df)\n",
    "        else:\n",
    "            pass"
   ]
  },
  {
   "cell_type": "code",
   "execution_count": 255,
   "id": "7809063a-94df-4a65-bbaf-b09a9fb2af34",
   "metadata": {},
   "outputs": [],
   "source": [
    "new_diff_df = pd.concat(l)"
   ]
  },
  {
   "cell_type": "code",
   "execution_count": 292,
   "id": "4616c25f-e494-4d96-b618-fabda75684a4",
   "metadata": {},
   "outputs": [
    {
     "data": {
      "text/plain": [
       "(313, 84)"
      ]
     },
     "execution_count": 292,
     "metadata": {},
     "output_type": "execute_result"
    }
   ],
   "source": [
    "new_diff_df.shape"
   ]
  },
  {
   "cell_type": "code",
   "execution_count": 257,
   "id": "7e635dd9-54ab-41e9-8e97-cf355b8dc6be",
   "metadata": {},
   "outputs": [],
   "source": [
    "new_diff_df.set_index('club', inplace=True)"
   ]
  },
  {
   "cell_type": "code",
   "execution_count": 308,
   "id": "ce961957-f830-4863-a670-78e5da60afcd",
   "metadata": {},
   "outputs": [
    {
     "data": {
      "text/plain": [
       "1"
      ]
     },
     "execution_count": 308,
     "metadata": {},
     "output_type": "execute_result"
    }
   ],
   "source": [
    "len(new_diff_df.loc['Manchester City'].iloc[0].shape)"
   ]
  },
  {
   "cell_type": "code",
   "execution_count": 312,
   "id": "8d40182c-3acd-45d6-8763-b6214b2048c2",
   "metadata": {},
   "outputs": [
    {
     "data": {
      "text/html": [
       "<div>\n",
       "<style scoped>\n",
       "    .dataframe tbody tr th:only-of-type {\n",
       "        vertical-align: middle;\n",
       "    }\n",
       "\n",
       "    .dataframe tbody tr th {\n",
       "        vertical-align: top;\n",
       "    }\n",
       "\n",
       "    .dataframe thead th {\n",
       "        text-align: right;\n",
       "    }\n",
       "</style>\n",
       "<table border=\"1\" class=\"dataframe\">\n",
       "  <thead>\n",
       "    <tr style=\"text-align: right;\">\n",
       "      <th></th>\n",
       "      <th>attacking_volleys</th>\n",
       "      <th>pace</th>\n",
       "      <th>movement_acceleration</th>\n",
       "      <th>st</th>\n",
       "      <th>attacking_short_passing</th>\n",
       "      <th>mentality_vision</th>\n",
       "      <th>mentality_penalties</th>\n",
       "      <th>skill_ball_control</th>\n",
       "      <th>rdm</th>\n",
       "      <th>movement_sprint_speed</th>\n",
       "      <th>...</th>\n",
       "      <th>attacking_heading_accuracy</th>\n",
       "      <th>lcb</th>\n",
       "      <th>height_cm</th>\n",
       "      <th>skill_curve</th>\n",
       "      <th>shooting</th>\n",
       "      <th>gk_positioning</th>\n",
       "      <th>physic</th>\n",
       "      <th>lm</th>\n",
       "      <th>mentality_aggression</th>\n",
       "      <th>rwb</th>\n",
       "    </tr>\n",
       "  </thead>\n",
       "  <tbody>\n",
       "    <tr>\n",
       "      <th>0</th>\n",
       "      <td>-0.923459</td>\n",
       "      <td>-1.14629</td>\n",
       "      <td>-0.445402</td>\n",
       "      <td>-0.566092</td>\n",
       "      <td>0.851358</td>\n",
       "      <td>0.373302</td>\n",
       "      <td>-2.348746</td>\n",
       "      <td>-0.109718</td>\n",
       "      <td>0.137931</td>\n",
       "      <td>-0.435737</td>\n",
       "      <td>...</td>\n",
       "      <td>-0.683647</td>\n",
       "      <td>-0.020899</td>\n",
       "      <td>-0.002351</td>\n",
       "      <td>0.192006</td>\n",
       "      <td>-1.022205</td>\n",
       "      <td>0.676071</td>\n",
       "      <td>-1.06139</td>\n",
       "      <td>-0.198276</td>\n",
       "      <td>-0.32419</td>\n",
       "      <td>0.024295</td>\n",
       "    </tr>\n",
       "  </tbody>\n",
       "</table>\n",
       "<p>1 rows × 84 columns</p>\n",
       "</div>"
      ],
      "text/plain": [
       "   attacking_volleys     pace  movement_acceleration        st  \\\n",
       "0          -0.923459 -1.14629              -0.445402 -0.566092   \n",
       "\n",
       "   attacking_short_passing  mentality_vision  mentality_penalties  \\\n",
       "0                 0.851358          0.373302            -2.348746   \n",
       "\n",
       "   skill_ball_control       rdm  movement_sprint_speed  ...  \\\n",
       "0           -0.109718  0.137931              -0.435737  ...   \n",
       "\n",
       "   attacking_heading_accuracy       lcb  height_cm  skill_curve  shooting  \\\n",
       "0                   -0.683647 -0.020899  -0.002351     0.192006 -1.022205   \n",
       "\n",
       "   gk_positioning   physic        lm  mentality_aggression       rwb  \n",
       "0        0.676071 -1.06139 -0.198276              -0.32419  0.024295  \n",
       "\n",
       "[1 rows x 84 columns]"
      ]
     },
     "execution_count": 312,
     "metadata": {},
     "output_type": "execute_result"
    }
   ],
   "source": [
    "pd.DataFrame(new_diff_df.loc['Manchester City'].mean()).T"
   ]
  },
  {
   "cell_type": "code",
   "execution_count": 327,
   "id": "621ab1dc-52e4-4b56-9054-bb7e28e9a63d",
   "metadata": {},
   "outputs": [],
   "source": [
    "k = []\n",
    "for i in clubs:\n",
    "    df = new_diff_df.loc[i]\n",
    "    if len(df.shape)>1:\n",
    "        meaned_diff = pd.DataFrame(df.mean(axis=0)).T\n",
    "    meaned_diff['club'] = i\n",
    "    k.append(meaned_diff)"
   ]
  },
  {
   "cell_type": "code",
   "execution_count": 328,
   "id": "ecc5f504-397d-40fc-a4de-93de6f712e01",
   "metadata": {},
   "outputs": [],
   "source": [
    "final_df = pd.concat(k)"
   ]
  },
  {
   "cell_type": "code",
   "execution_count": 329,
   "id": "f433b8c6-09c9-4c89-ad28-5b47edd9d4b0",
   "metadata": {},
   "outputs": [
    {
     "data": {
      "text/plain": [
       "(81, 85)"
      ]
     },
     "execution_count": 329,
     "metadata": {},
     "output_type": "execute_result"
    }
   ],
   "source": [
    "final_df.shape"
   ]
  },
  {
   "cell_type": "code",
   "execution_count": 330,
   "id": "c1f07b4b-653f-422d-9b5f-1d769a6fe253",
   "metadata": {},
   "outputs": [
    {
     "data": {
      "text/plain": [
       "80"
      ]
     },
     "execution_count": 330,
     "metadata": {},
     "output_type": "execute_result"
    }
   ],
   "source": [
    "final_df['club'].nunique()"
   ]
  },
  {
   "cell_type": "code",
   "execution_count": 331,
   "id": "51ee330d-fdb0-4a78-8b03-f7feefc69f9c",
   "metadata": {},
   "outputs": [
    {
     "data": {
      "text/html": [
       "<div>\n",
       "<style scoped>\n",
       "    .dataframe tbody tr th:only-of-type {\n",
       "        vertical-align: middle;\n",
       "    }\n",
       "\n",
       "    .dataframe tbody tr th {\n",
       "        vertical-align: top;\n",
       "    }\n",
       "\n",
       "    .dataframe thead th {\n",
       "        text-align: right;\n",
       "    }\n",
       "</style>\n",
       "<table border=\"1\" class=\"dataframe\">\n",
       "  <thead>\n",
       "    <tr style=\"text-align: right;\">\n",
       "      <th></th>\n",
       "      <th>attacking_volleys</th>\n",
       "      <th>pace</th>\n",
       "      <th>movement_acceleration</th>\n",
       "      <th>st</th>\n",
       "      <th>attacking_short_passing</th>\n",
       "      <th>mentality_vision</th>\n",
       "      <th>mentality_penalties</th>\n",
       "      <th>skill_ball_control</th>\n",
       "      <th>rdm</th>\n",
       "      <th>movement_sprint_speed</th>\n",
       "      <th>...</th>\n",
       "      <th>attacking_heading_accuracy</th>\n",
       "      <th>lcb</th>\n",
       "      <th>height_cm</th>\n",
       "      <th>skill_curve</th>\n",
       "      <th>shooting</th>\n",
       "      <th>gk_positioning</th>\n",
       "      <th>physic</th>\n",
       "      <th>lm</th>\n",
       "      <th>mentality_aggression</th>\n",
       "      <th>rwb</th>\n",
       "    </tr>\n",
       "    <tr>\n",
       "      <th>club</th>\n",
       "      <th></th>\n",
       "      <th></th>\n",
       "      <th></th>\n",
       "      <th></th>\n",
       "      <th></th>\n",
       "      <th></th>\n",
       "      <th></th>\n",
       "      <th></th>\n",
       "      <th></th>\n",
       "      <th></th>\n",
       "      <th></th>\n",
       "      <th></th>\n",
       "      <th></th>\n",
       "      <th></th>\n",
       "      <th></th>\n",
       "      <th></th>\n",
       "      <th></th>\n",
       "      <th></th>\n",
       "      <th></th>\n",
       "      <th></th>\n",
       "      <th></th>\n",
       "    </tr>\n",
       "  </thead>\n",
       "  <tbody>\n",
       "    <tr>\n",
       "      <th>Manchester City</th>\n",
       "      <td>-0.923459</td>\n",
       "      <td>-1.146290</td>\n",
       "      <td>-0.445402</td>\n",
       "      <td>-0.566092</td>\n",
       "      <td>0.851358</td>\n",
       "      <td>0.373302</td>\n",
       "      <td>-2.348746</td>\n",
       "      <td>-0.109718</td>\n",
       "      <td>0.137931</td>\n",
       "      <td>-0.435737</td>\n",
       "      <td>...</td>\n",
       "      <td>-0.683647</td>\n",
       "      <td>-0.020899</td>\n",
       "      <td>-0.002351</td>\n",
       "      <td>0.192006</td>\n",
       "      <td>-1.022205</td>\n",
       "      <td>0.676071</td>\n",
       "      <td>-1.061390</td>\n",
       "      <td>-0.198276</td>\n",
       "      <td>-0.324190</td>\n",
       "      <td>0.024295</td>\n",
       "    </tr>\n",
       "    <tr>\n",
       "      <th>FC Barcelona</th>\n",
       "      <td>-0.312211</td>\n",
       "      <td>-0.440104</td>\n",
       "      <td>-0.934896</td>\n",
       "      <td>0.396701</td>\n",
       "      <td>0.121817</td>\n",
       "      <td>-0.023438</td>\n",
       "      <td>-0.355613</td>\n",
       "      <td>0.117766</td>\n",
       "      <td>0.730613</td>\n",
       "      <td>-0.694734</td>\n",
       "      <td>...</td>\n",
       "      <td>0.435185</td>\n",
       "      <td>0.720197</td>\n",
       "      <td>0.303530</td>\n",
       "      <td>-0.766493</td>\n",
       "      <td>-0.290509</td>\n",
       "      <td>-0.232350</td>\n",
       "      <td>0.016493</td>\n",
       "      <td>0.620949</td>\n",
       "      <td>-0.037905</td>\n",
       "      <td>0.589120</td>\n",
       "    </tr>\n",
       "    <tr>\n",
       "      <th>Liverpool</th>\n",
       "      <td>-0.482975</td>\n",
       "      <td>-1.371864</td>\n",
       "      <td>-0.873955</td>\n",
       "      <td>-0.675926</td>\n",
       "      <td>-0.989546</td>\n",
       "      <td>0.750299</td>\n",
       "      <td>-0.901135</td>\n",
       "      <td>-0.777180</td>\n",
       "      <td>-0.224014</td>\n",
       "      <td>-0.768220</td>\n",
       "      <td>...</td>\n",
       "      <td>-0.953405</td>\n",
       "      <td>-0.170550</td>\n",
       "      <td>0.183094</td>\n",
       "      <td>-0.193847</td>\n",
       "      <td>-0.895161</td>\n",
       "      <td>0.956989</td>\n",
       "      <td>-1.390084</td>\n",
       "      <td>-0.545699</td>\n",
       "      <td>0.629331</td>\n",
       "      <td>-0.322581</td>\n",
       "    </tr>\n",
       "    <tr>\n",
       "      <th>Paris Saint-Germain</th>\n",
       "      <td>-1.098214</td>\n",
       "      <td>0.717634</td>\n",
       "      <td>0.866071</td>\n",
       "      <td>-0.054688</td>\n",
       "      <td>-0.132812</td>\n",
       "      <td>-1.433036</td>\n",
       "      <td>-0.694196</td>\n",
       "      <td>-0.017857</td>\n",
       "      <td>0.453125</td>\n",
       "      <td>0.862723</td>\n",
       "      <td>...</td>\n",
       "      <td>0.164062</td>\n",
       "      <td>0.463170</td>\n",
       "      <td>0.210938</td>\n",
       "      <td>0.622768</td>\n",
       "      <td>-0.960938</td>\n",
       "      <td>-0.581473</td>\n",
       "      <td>-0.414062</td>\n",
       "      <td>0.263393</td>\n",
       "      <td>-0.871652</td>\n",
       "      <td>0.561384</td>\n",
       "    </tr>\n",
       "    <tr>\n",
       "      <th>Napoli</th>\n",
       "      <td>-0.600186</td>\n",
       "      <td>-0.176489</td>\n",
       "      <td>-0.339020</td>\n",
       "      <td>0.246898</td>\n",
       "      <td>0.012097</td>\n",
       "      <td>-0.978288</td>\n",
       "      <td>-0.945409</td>\n",
       "      <td>-0.249380</td>\n",
       "      <td>0.463710</td>\n",
       "      <td>-0.727667</td>\n",
       "      <td>...</td>\n",
       "      <td>-0.058623</td>\n",
       "      <td>0.318238</td>\n",
       "      <td>-0.645782</td>\n",
       "      <td>-0.353908</td>\n",
       "      <td>-0.267370</td>\n",
       "      <td>-0.292494</td>\n",
       "      <td>-1.113834</td>\n",
       "      <td>0.455645</td>\n",
       "      <td>-1.035050</td>\n",
       "      <td>0.442618</td>\n",
       "    </tr>\n",
       "  </tbody>\n",
       "</table>\n",
       "<p>5 rows × 84 columns</p>\n",
       "</div>"
      ],
      "text/plain": [
       "                     attacking_volleys      pace  movement_acceleration  \\\n",
       "club                                                                      \n",
       "Manchester City              -0.923459 -1.146290              -0.445402   \n",
       "FC Barcelona                 -0.312211 -0.440104              -0.934896   \n",
       "Liverpool                    -0.482975 -1.371864              -0.873955   \n",
       "Paris Saint-Germain          -1.098214  0.717634               0.866071   \n",
       "Napoli                       -0.600186 -0.176489              -0.339020   \n",
       "\n",
       "                           st  attacking_short_passing  mentality_vision  \\\n",
       "club                                                                       \n",
       "Manchester City     -0.566092                 0.851358          0.373302   \n",
       "FC Barcelona         0.396701                 0.121817         -0.023438   \n",
       "Liverpool           -0.675926                -0.989546          0.750299   \n",
       "Paris Saint-Germain -0.054688                -0.132812         -1.433036   \n",
       "Napoli               0.246898                 0.012097         -0.978288   \n",
       "\n",
       "                     mentality_penalties  skill_ball_control       rdm  \\\n",
       "club                                                                     \n",
       "Manchester City                -2.348746           -0.109718  0.137931   \n",
       "FC Barcelona                   -0.355613            0.117766  0.730613   \n",
       "Liverpool                      -0.901135           -0.777180 -0.224014   \n",
       "Paris Saint-Germain            -0.694196           -0.017857  0.453125   \n",
       "Napoli                         -0.945409           -0.249380  0.463710   \n",
       "\n",
       "                     movement_sprint_speed  ...  attacking_heading_accuracy  \\\n",
       "club                                        ...                               \n",
       "Manchester City                  -0.435737  ...                   -0.683647   \n",
       "FC Barcelona                     -0.694734  ...                    0.435185   \n",
       "Liverpool                        -0.768220  ...                   -0.953405   \n",
       "Paris Saint-Germain               0.862723  ...                    0.164062   \n",
       "Napoli                           -0.727667  ...                   -0.058623   \n",
       "\n",
       "                          lcb  height_cm  skill_curve  shooting  \\\n",
       "club                                                              \n",
       "Manchester City     -0.020899  -0.002351     0.192006 -1.022205   \n",
       "FC Barcelona         0.720197   0.303530    -0.766493 -0.290509   \n",
       "Liverpool           -0.170550   0.183094    -0.193847 -0.895161   \n",
       "Paris Saint-Germain  0.463170   0.210938     0.622768 -0.960938   \n",
       "Napoli               0.318238  -0.645782    -0.353908 -0.267370   \n",
       "\n",
       "                     gk_positioning    physic        lm  mentality_aggression  \\\n",
       "club                                                                            \n",
       "Manchester City            0.676071 -1.061390 -0.198276             -0.324190   \n",
       "FC Barcelona              -0.232350  0.016493  0.620949             -0.037905   \n",
       "Liverpool                  0.956989 -1.390084 -0.545699              0.629331   \n",
       "Paris Saint-Germain       -0.581473 -0.414062  0.263393             -0.871652   \n",
       "Napoli                    -0.292494 -1.113834  0.455645             -1.035050   \n",
       "\n",
       "                          rwb  \n",
       "club                           \n",
       "Manchester City      0.024295  \n",
       "FC Barcelona         0.589120  \n",
       "Liverpool           -0.322581  \n",
       "Paris Saint-Germain  0.561384  \n",
       "Napoli               0.442618  \n",
       "\n",
       "[5 rows x 84 columns]"
      ]
     },
     "execution_count": 331,
     "metadata": {},
     "output_type": "execute_result"
    }
   ],
   "source": [
    "final_df.set_index('club', inplace=True)\n",
    "final_df.head()"
   ]
  },
  {
   "cell_type": "code",
   "execution_count": 393,
   "id": "247f271c-f02a-4318-8177-fe8e1c08534a",
   "metadata": {},
   "outputs": [],
   "source": [
    "final_scores = pd.DataFrame()\n",
    "for i in final_df.columns:\n",
    "    means = final_df[i]\n",
    "    max_ = np.max(means)\n",
    "    min_ = np.min(means)\n",
    "    temp=[]\n",
    "    for j in means:\n",
    "        temp.append(((j-min_)*100)/(max_-min_))\n",
    "    final_scores[i] = temp\n",
    "final_scores['club'] = final_df.index"
   ]
  },
  {
   "cell_type": "code",
   "execution_count": 394,
   "id": "f9627b1f-5126-4ccd-8a92-3d64856bee61",
   "metadata": {},
   "outputs": [
    {
     "data": {
      "text/html": [
       "<div>\n",
       "<style scoped>\n",
       "    .dataframe tbody tr th:only-of-type {\n",
       "        vertical-align: middle;\n",
       "    }\n",
       "\n",
       "    .dataframe tbody tr th {\n",
       "        vertical-align: top;\n",
       "    }\n",
       "\n",
       "    .dataframe thead th {\n",
       "        text-align: right;\n",
       "    }\n",
       "</style>\n",
       "<table border=\"1\" class=\"dataframe\">\n",
       "  <thead>\n",
       "    <tr style=\"text-align: right;\">\n",
       "      <th></th>\n",
       "      <th>attacking_volleys</th>\n",
       "      <th>pace</th>\n",
       "      <th>movement_acceleration</th>\n",
       "      <th>st</th>\n",
       "      <th>attacking_short_passing</th>\n",
       "      <th>mentality_vision</th>\n",
       "      <th>mentality_penalties</th>\n",
       "      <th>skill_ball_control</th>\n",
       "      <th>rdm</th>\n",
       "      <th>movement_sprint_speed</th>\n",
       "      <th>...</th>\n",
       "      <th>lcb</th>\n",
       "      <th>height_cm</th>\n",
       "      <th>skill_curve</th>\n",
       "      <th>shooting</th>\n",
       "      <th>gk_positioning</th>\n",
       "      <th>physic</th>\n",
       "      <th>lm</th>\n",
       "      <th>mentality_aggression</th>\n",
       "      <th>rwb</th>\n",
       "      <th>club</th>\n",
       "    </tr>\n",
       "  </thead>\n",
       "  <tbody>\n",
       "    <tr>\n",
       "      <th>0</th>\n",
       "      <td>20.334623</td>\n",
       "      <td>34.902748</td>\n",
       "      <td>40.292465</td>\n",
       "      <td>13.911089</td>\n",
       "      <td>50.702016</td>\n",
       "      <td>38.164913</td>\n",
       "      <td>3.457040</td>\n",
       "      <td>25.459886</td>\n",
       "      <td>32.889849</td>\n",
       "      <td>43.809922</td>\n",
       "      <td>...</td>\n",
       "      <td>31.360209</td>\n",
       "      <td>38.804930</td>\n",
       "      <td>40.551319</td>\n",
       "      <td>17.120697</td>\n",
       "      <td>60.883043</td>\n",
       "      <td>19.059854</td>\n",
       "      <td>14.706375</td>\n",
       "      <td>48.870098</td>\n",
       "      <td>28.072430</td>\n",
       "      <td>Manchester City</td>\n",
       "    </tr>\n",
       "    <tr>\n",
       "      <th>1</th>\n",
       "      <td>30.271991</td>\n",
       "      <td>50.683321</td>\n",
       "      <td>29.791872</td>\n",
       "      <td>36.163837</td>\n",
       "      <td>35.370114</td>\n",
       "      <td>31.150377</td>\n",
       "      <td>44.541494</td>\n",
       "      <td>29.368684</td>\n",
       "      <td>51.629672</td>\n",
       "      <td>39.132076</td>\n",
       "      <td>...</td>\n",
       "      <td>50.661663</td>\n",
       "      <td>53.381217</td>\n",
       "      <td>23.749188</td>\n",
       "      <td>30.530620</td>\n",
       "      <td>31.522663</td>\n",
       "      <td>50.537021</td>\n",
       "      <td>34.880956</td>\n",
       "      <td>54.314115</td>\n",
       "      <td>47.012387</td>\n",
       "      <td>FC Barcelona</td>\n",
       "    </tr>\n",
       "    <tr>\n",
       "      <th>2</th>\n",
       "      <td>27.495790</td>\n",
       "      <td>29.862044</td>\n",
       "      <td>31.099180</td>\n",
       "      <td>11.372530</td>\n",
       "      <td>12.013917</td>\n",
       "      <td>44.830387</td>\n",
       "      <td>33.296655</td>\n",
       "      <td>13.991058</td>\n",
       "      <td>21.445621</td>\n",
       "      <td>37.804816</td>\n",
       "      <td>...</td>\n",
       "      <td>27.462626</td>\n",
       "      <td>47.642043</td>\n",
       "      <td>33.787456</td>\n",
       "      <td>19.449048</td>\n",
       "      <td>69.962389</td>\n",
       "      <td>9.461081</td>\n",
       "      <td>6.150588</td>\n",
       "      <td>67.002321</td>\n",
       "      <td>16.440870</td>\n",
       "      <td>Liverpool</td>\n",
       "    </tr>\n",
       "    <tr>\n",
       "      <th>3</th>\n",
       "      <td>17.493533</td>\n",
       "      <td>76.554355</td>\n",
       "      <td>68.426140</td>\n",
       "      <td>25.731024</td>\n",
       "      <td>30.018866</td>\n",
       "      <td>6.228034</td>\n",
       "      <td>37.562281</td>\n",
       "      <td>27.038304</td>\n",
       "      <td>42.855860</td>\n",
       "      <td>67.261907</td>\n",
       "      <td>...</td>\n",
       "      <td>43.967522</td>\n",
       "      <td>48.968863</td>\n",
       "      <td>48.102407</td>\n",
       "      <td>18.243555</td>\n",
       "      <td>20.238899</td>\n",
       "      <td>37.963605</td>\n",
       "      <td>26.075625</td>\n",
       "      <td>38.459531</td>\n",
       "      <td>46.082318</td>\n",
       "      <td>Paris Saint-Germain</td>\n",
       "    </tr>\n",
       "    <tr>\n",
       "      <th>4</th>\n",
       "      <td>25.590229</td>\n",
       "      <td>56.574119</td>\n",
       "      <td>42.574577</td>\n",
       "      <td>32.701483</td>\n",
       "      <td>33.064252</td>\n",
       "      <td>14.268185</td>\n",
       "      <td>32.384026</td>\n",
       "      <td>23.060116</td>\n",
       "      <td>43.190533</td>\n",
       "      <td>38.537247</td>\n",
       "      <td>...</td>\n",
       "      <td>40.192856</td>\n",
       "      <td>8.143258</td>\n",
       "      <td>30.981645</td>\n",
       "      <td>30.954702</td>\n",
       "      <td>29.578786</td>\n",
       "      <td>17.528344</td>\n",
       "      <td>30.810112</td>\n",
       "      <td>35.352346</td>\n",
       "      <td>42.099808</td>\n",
       "      <td>Napoli</td>\n",
       "    </tr>\n",
       "  </tbody>\n",
       "</table>\n",
       "<p>5 rows × 85 columns</p>\n",
       "</div>"
      ],
      "text/plain": [
       "   attacking_volleys       pace  movement_acceleration         st  \\\n",
       "0          20.334623  34.902748              40.292465  13.911089   \n",
       "1          30.271991  50.683321              29.791872  36.163837   \n",
       "2          27.495790  29.862044              31.099180  11.372530   \n",
       "3          17.493533  76.554355              68.426140  25.731024   \n",
       "4          25.590229  56.574119              42.574577  32.701483   \n",
       "\n",
       "   attacking_short_passing  mentality_vision  mentality_penalties  \\\n",
       "0                50.702016         38.164913             3.457040   \n",
       "1                35.370114         31.150377            44.541494   \n",
       "2                12.013917         44.830387            33.296655   \n",
       "3                30.018866          6.228034            37.562281   \n",
       "4                33.064252         14.268185            32.384026   \n",
       "\n",
       "   skill_ball_control        rdm  movement_sprint_speed  ...        lcb  \\\n",
       "0           25.459886  32.889849              43.809922  ...  31.360209   \n",
       "1           29.368684  51.629672              39.132076  ...  50.661663   \n",
       "2           13.991058  21.445621              37.804816  ...  27.462626   \n",
       "3           27.038304  42.855860              67.261907  ...  43.967522   \n",
       "4           23.060116  43.190533              38.537247  ...  40.192856   \n",
       "\n",
       "   height_cm  skill_curve   shooting  gk_positioning     physic         lm  \\\n",
       "0  38.804930    40.551319  17.120697       60.883043  19.059854  14.706375   \n",
       "1  53.381217    23.749188  30.530620       31.522663  50.537021  34.880956   \n",
       "2  47.642043    33.787456  19.449048       69.962389   9.461081   6.150588   \n",
       "3  48.968863    48.102407  18.243555       20.238899  37.963605  26.075625   \n",
       "4   8.143258    30.981645  30.954702       29.578786  17.528344  30.810112   \n",
       "\n",
       "   mentality_aggression        rwb                 club  \n",
       "0             48.870098  28.072430      Manchester City  \n",
       "1             54.314115  47.012387         FC Barcelona  \n",
       "2             67.002321  16.440870            Liverpool  \n",
       "3             38.459531  46.082318  Paris Saint-Germain  \n",
       "4             35.352346  42.099808               Napoli  \n",
       "\n",
       "[5 rows x 85 columns]"
      ]
     },
     "execution_count": 394,
     "metadata": {},
     "output_type": "execute_result"
    }
   ],
   "source": [
    "final_scores.head()"
   ]
  },
  {
   "cell_type": "code",
   "execution_count": 395,
   "id": "527c08e4-a921-4a10-bf79-5cb179871add",
   "metadata": {},
   "outputs": [],
   "source": [
    "final_scores.set_index('club', inplace=True)"
   ]
  },
  {
   "cell_type": "code",
   "execution_count": 396,
   "id": "3273d0d5-f05a-4beb-a2f3-3d2289846fcf",
   "metadata": {},
   "outputs": [],
   "source": [
    "total_score = pd.DataFrame(final_scores.mean(axis=1), columns=['score'])"
   ]
  },
  {
   "cell_type": "code",
   "execution_count": 397,
   "id": "fd83c59d-34c6-4c0c-a448-adb1f750485d",
   "metadata": {},
   "outputs": [
    {
     "data": {
      "text/html": [
       "<div>\n",
       "<style scoped>\n",
       "    .dataframe tbody tr th:only-of-type {\n",
       "        vertical-align: middle;\n",
       "    }\n",
       "\n",
       "    .dataframe tbody tr th {\n",
       "        vertical-align: top;\n",
       "    }\n",
       "\n",
       "    .dataframe thead th {\n",
       "        text-align: right;\n",
       "    }\n",
       "</style>\n",
       "<table border=\"1\" class=\"dataframe\">\n",
       "  <thead>\n",
       "    <tr style=\"text-align: right;\">\n",
       "      <th></th>\n",
       "      <th>score</th>\n",
       "    </tr>\n",
       "    <tr>\n",
       "      <th>club</th>\n",
       "      <th></th>\n",
       "    </tr>\n",
       "  </thead>\n",
       "  <tbody>\n",
       "    <tr>\n",
       "      <th>Manchester City</th>\n",
       "      <td>36.310527</td>\n",
       "    </tr>\n",
       "    <tr>\n",
       "      <th>FC Barcelona</th>\n",
       "      <td>38.662883</td>\n",
       "    </tr>\n",
       "    <tr>\n",
       "      <th>Liverpool</th>\n",
       "      <td>30.541267</td>\n",
       "    </tr>\n",
       "    <tr>\n",
       "      <th>Paris Saint-Germain</th>\n",
       "      <td>34.342185</td>\n",
       "    </tr>\n",
       "    <tr>\n",
       "      <th>Napoli</th>\n",
       "      <td>35.906827</td>\n",
       "    </tr>\n",
       "  </tbody>\n",
       "</table>\n",
       "</div>"
      ],
      "text/plain": [
       "                         score\n",
       "club                          \n",
       "Manchester City      36.310527\n",
       "FC Barcelona         38.662883\n",
       "Liverpool            30.541267\n",
       "Paris Saint-Germain  34.342185\n",
       "Napoli               35.906827"
      ]
     },
     "execution_count": 397,
     "metadata": {},
     "output_type": "execute_result"
    }
   ],
   "source": [
    "total_score.head()"
   ]
  },
  {
   "cell_type": "code",
   "execution_count": 398,
   "id": "2405c43c-ab18-4e50-b772-29656079f609",
   "metadata": {},
   "outputs": [],
   "source": [
    "total_score.sort_values(by='score', ascending=False, inplace=True)"
   ]
  },
  {
   "cell_type": "code",
   "execution_count": 399,
   "id": "1a0a3c6c-79c0-42c4-ac53-bfdc7bf292f4",
   "metadata": {},
   "outputs": [],
   "source": [
    "total_score.reset_index(inplace=True)"
   ]
  },
  {
   "cell_type": "code",
   "execution_count": 400,
   "id": "6b2bfef6-7b4b-41d9-9fb8-b4fb867e6f24",
   "metadata": {},
   "outputs": [
    {
     "data": {
      "text/html": [
       "<div>\n",
       "<style scoped>\n",
       "    .dataframe tbody tr th:only-of-type {\n",
       "        vertical-align: middle;\n",
       "    }\n",
       "\n",
       "    .dataframe tbody tr th {\n",
       "        vertical-align: top;\n",
       "    }\n",
       "\n",
       "    .dataframe thead th {\n",
       "        text-align: right;\n",
       "    }\n",
       "</style>\n",
       "<table border=\"1\" class=\"dataframe\">\n",
       "  <thead>\n",
       "    <tr style=\"text-align: right;\">\n",
       "      <th></th>\n",
       "      <th>club</th>\n",
       "      <th>score</th>\n",
       "    </tr>\n",
       "  </thead>\n",
       "  <tbody>\n",
       "    <tr>\n",
       "      <th>0</th>\n",
       "      <td>Amiens SC</td>\n",
       "      <td>75.472959</td>\n",
       "    </tr>\n",
       "    <tr>\n",
       "      <th>1</th>\n",
       "      <td>SC Paderborn 07</td>\n",
       "      <td>68.160680</td>\n",
       "    </tr>\n",
       "    <tr>\n",
       "      <th>2</th>\n",
       "      <td>Parma</td>\n",
       "      <td>67.817000</td>\n",
       "    </tr>\n",
       "    <tr>\n",
       "      <th>3</th>\n",
       "      <td>Cagliari</td>\n",
       "      <td>58.292728</td>\n",
       "    </tr>\n",
       "    <tr>\n",
       "      <th>4</th>\n",
       "      <td>SD Eibar</td>\n",
       "      <td>57.392832</td>\n",
       "    </tr>\n",
       "  </tbody>\n",
       "</table>\n",
       "</div>"
      ],
      "text/plain": [
       "              club      score\n",
       "0        Amiens SC  75.472959\n",
       "1  SC Paderborn 07  68.160680\n",
       "2            Parma  67.817000\n",
       "3         Cagliari  58.292728\n",
       "4         SD Eibar  57.392832"
      ]
     },
     "execution_count": 400,
     "metadata": {},
     "output_type": "execute_result"
    }
   ],
   "source": [
    "total_score.head()"
   ]
  },
  {
   "cell_type": "code",
   "execution_count": 401,
   "id": "60c803ce-593e-4c56-b061-7afea72d85f1",
   "metadata": {},
   "outputs": [],
   "source": [
    "total_score.to_csv('scores.csv', index=False)"
   ]
  },
  {
   "cell_type": "code",
   "execution_count": 402,
   "id": "729455e9-942a-482a-938c-a539f908aac8",
   "metadata": {},
   "outputs": [],
   "source": [
    "ranks = total_score.reset_index()"
   ]
  },
  {
   "cell_type": "code",
   "execution_count": 403,
   "id": "c965c920-67c2-4738-a37e-fe17c647b407",
   "metadata": {},
   "outputs": [],
   "source": [
    "ranks.drop('score', axis=1, inplace=True)"
   ]
  },
  {
   "cell_type": "code",
   "execution_count": 404,
   "id": "00a54eb6-551a-4614-ae21-931c61f81d6c",
   "metadata": {},
   "outputs": [],
   "source": [
    "ranks.columns=['rank', 'club']\n",
    "ranks['rank'] = ranks['rank']+1\n",
    "ranks = ranks[['club', 'rank']]"
   ]
  },
  {
   "cell_type": "code",
   "execution_count": 405,
   "id": "9fdaf91b-e21e-4ec3-b29c-d0d6ab524187",
   "metadata": {},
   "outputs": [
    {
     "data": {
      "text/html": [
       "<div>\n",
       "<style scoped>\n",
       "    .dataframe tbody tr th:only-of-type {\n",
       "        vertical-align: middle;\n",
       "    }\n",
       "\n",
       "    .dataframe tbody tr th {\n",
       "        vertical-align: top;\n",
       "    }\n",
       "\n",
       "    .dataframe thead th {\n",
       "        text-align: right;\n",
       "    }\n",
       "</style>\n",
       "<table border=\"1\" class=\"dataframe\">\n",
       "  <thead>\n",
       "    <tr style=\"text-align: right;\">\n",
       "      <th></th>\n",
       "      <th>club</th>\n",
       "      <th>rank</th>\n",
       "    </tr>\n",
       "  </thead>\n",
       "  <tbody>\n",
       "    <tr>\n",
       "      <th>0</th>\n",
       "      <td>Amiens SC</td>\n",
       "      <td>1</td>\n",
       "    </tr>\n",
       "    <tr>\n",
       "      <th>1</th>\n",
       "      <td>SC Paderborn 07</td>\n",
       "      <td>2</td>\n",
       "    </tr>\n",
       "    <tr>\n",
       "      <th>2</th>\n",
       "      <td>Parma</td>\n",
       "      <td>3</td>\n",
       "    </tr>\n",
       "    <tr>\n",
       "      <th>3</th>\n",
       "      <td>Cagliari</td>\n",
       "      <td>4</td>\n",
       "    </tr>\n",
       "    <tr>\n",
       "      <th>4</th>\n",
       "      <td>SD Eibar</td>\n",
       "      <td>5</td>\n",
       "    </tr>\n",
       "  </tbody>\n",
       "</table>\n",
       "</div>"
      ],
      "text/plain": [
       "              club  rank\n",
       "0        Amiens SC     1\n",
       "1  SC Paderborn 07     2\n",
       "2            Parma     3\n",
       "3         Cagliari     4\n",
       "4         SD Eibar     5"
      ]
     },
     "execution_count": 405,
     "metadata": {},
     "output_type": "execute_result"
    }
   ],
   "source": [
    "ranks.head()"
   ]
  },
  {
   "cell_type": "code",
   "execution_count": 390,
   "id": "10890db8-a95b-4d67-af43-cb5f12d907e5",
   "metadata": {},
   "outputs": [],
   "source": [
    "# ranks.to_csv('fifa_ranks.csv', index=False)"
   ]
  },
  {
   "cell_type": "code",
   "execution_count": null,
   "id": "0823e0a2-0a51-4cee-a640-c809b682f498",
   "metadata": {},
   "outputs": [],
   "source": []
  }
 ],
 "metadata": {
  "kernelspec": {
   "display_name": "Python 3 (ipykernel)",
   "language": "python",
   "name": "python3"
  },
  "language_info": {
   "codemirror_mode": {
    "name": "ipython",
    "version": 3
   },
   "file_extension": ".py",
   "mimetype": "text/x-python",
   "name": "python",
   "nbconvert_exporter": "python",
   "pygments_lexer": "ipython3",
   "version": "3.9.12"
  },
  "toc": {
   "base_numbering": 1,
   "nav_menu": {},
   "number_sections": true,
   "sideBar": true,
   "skip_h1_title": false,
   "title_cell": "Table of Contents",
   "title_sidebar": "Contents",
   "toc_cell": false,
   "toc_position": {},
   "toc_section_display": true,
   "toc_window_display": false
  }
 },
 "nbformat": 4,
 "nbformat_minor": 5
}
